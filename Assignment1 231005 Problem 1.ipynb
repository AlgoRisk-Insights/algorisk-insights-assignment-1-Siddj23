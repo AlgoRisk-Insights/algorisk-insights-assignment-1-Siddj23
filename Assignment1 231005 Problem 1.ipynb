{
 "cells": [
  {
   "cell_type": "code",
   "execution_count": 8,
   "id": "ed849bb6-476a-43a8-921d-732dc979eb8f",
   "metadata": {},
   "outputs": [
    {
     "name": "stdout",
     "output_type": "stream",
     "text": [
      "Final Capital: 100815.36795630345\n",
      "Sharpe Ratio: 0.135448928757178\n",
      "Maximum Drawdown: -13.420388574665711%\n"
     ]
    }
   ],
   "source": [
    "import numpy as np\n",
    "import pandas as pd\n",
    "import yfinance as yf\n",
    "import matplotlib.pyplot as plt\n",
    "pd.options.mode.chained_assignment = None\n",
    "\n",
    "def Returns(df):\n",
    "    df[\"Returns\"] = (df[\"Close\"] - df[\"Open\"]) / df[\"Open\"]\n",
    "\n",
    "def Capital(df):\n",
    "    df[\"Capital\"] = np.nan\n",
    "    df.loc[df.index[0], \"Capital\"] = 100000 * (1 + df.loc[df.index[0], \"Returns\"])\n",
    "    for i in range(1, len(df)):\n",
    "        df.loc[df.index[i], \"Capital\"] = df.loc[df.index[i - 1], \"Capital\"] * (1 + df.loc[df.index[i], \"Returns\"])\n",
    "\n",
    "def SharpeRatio(df):\n",
    "    rfr = 0\n",
    "    return (252 * df[\"Returns\"].mean() - rfr) / (np.sqrt(252) * df[\"Returns\"].std())\n",
    "\n",
    "def MaxDrawDown(df):\n",
    "    max_peak_till_now = df[\"Capital\"].cummax()\n",
    "    drawdown = (df[\"Capital\"] - max_peak_till_now) / max_peak_till_now\n",
    "    return drawdown.min()\n",
    "\n",
    "def PrintMetrics(df):\n",
    "    Returns(df)\n",
    "    Capital(df)\n",
    "    print(\"Final Capital: {}\".format(df[\"Capital\"].iloc[-1]))\n",
    "    print(\"Sharpe Ratio: {}\".format(SharpeRatio(df)))\n",
    "    print(\"Maximum Drawdown: {}%\".format(MaxDrawDown(df) * 100))\n",
    "\n",
    "# Download data\n",
    "data = yf.download(\"titan.NS\", start=\"2023-04-01\", end=\"2024-03-31\", progress=False)\n",
    "\n",
    "# Print metrics\n",
    "PrintMetrics(data)"
   ]
  },
  {
   "cell_type": "code",
   "execution_count": null,
   "id": "1ebbc38a-022d-4446-858d-a8be12e75b50",
   "metadata": {},
   "outputs": [],
   "source": []
  }
 ],
 "metadata": {
  "kernelspec": {
   "display_name": "Python 3 (ipykernel)",
   "language": "python",
   "name": "python3"
  },
  "language_info": {
   "codemirror_mode": {
    "name": "ipython",
    "version": 3
   },
   "file_extension": ".py",
   "mimetype": "text/x-python",
   "name": "python",
   "nbconvert_exporter": "python",
   "pygments_lexer": "ipython3",
   "version": "3.11.7"
  }
 },
 "nbformat": 4,
 "nbformat_minor": 5
}
